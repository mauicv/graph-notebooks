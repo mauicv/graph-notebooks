{
 "cells": [
  {
   "cell_type": "markdown",
   "metadata": {},
   "source": [
    "\n",
    "\n",
    "## Intro\n",
    "\n",
    "___\n",
    "\n",
    "\n",
    "Suppose you have a collection of states ${s_1,...,s_n}$. We're going to denote the probabaility of $s_i$ moving to $s_j$ as given by $p_{i,j}$. The states can really be anything, for instance they could encode letters and the probabailties $p_{a, b}$ would be the probabilty for finding the letters 'a' and 'b' next to each other in a sentance. \n",
    "\n",
    "I'm going to represent three objects of interest using classes. \n",
    "\n",
    "1. The first is a walker class. We're going to use this to generate random walks from the graph. It stores only a single state so for instance perhaps the letter 'l'. \n",
    "2. The next is called State and represents distrubutions of walkers. So picture each walker as an individual in a population. Suppose for this popultaion 50% of the walker individuals are sat on the letter 'l' then we represent that by setting the dictionary value for 'l' to 0.5. This is a vector representation of how things, in this case our walkers, are distrubuted across the network. \n",
    "3. The transistion Matrix class encodes the probabailiies of transistions in states.  So exactly the $p_{i,j}$ above. In this case we're looking at transistions between letters. This class acts on each of the above objects in predicatble ways. \n",
    "    - In the first case a tansition matrix applied to a walker will update the state of the walker to a new state dependent on the trasnition probabilities. So if the walker is sitting in the 'l' state and $p_{l,o}=0.25$, $p_{l,s}=0.25$ and $p_{l,t}=0.5$ then 'l' is going to move to t half of the time and 'o' and 's' 25 percent of the time. \n",
    "    - In the second T is going to evolve the distrubution of states in proportion to the transistion probabailities. so suppse half of your walkers are hanging around on 'l' and the other half are hanging around on 't'. Suppose $p_{l,s}=0.7$ and $p_{t,s}=0.3$ then we calculate the probortion of walkers that will step from 'l' to 's' or 't' to 's' by: $$0.5 \\times p_{l,s} + 0.5 \\times p_{t,s} = 0.5 \\times 0.7 + 0.5 \\times 0.3 = 0.5 $$ So this would mean half the population of walkers end up stat on 's' after one time step.\n",
    "    In the case of applying the transistion Matrix to a State we are evolving the probabailities of walkers being in a particular states. In the case of applying the transistion Matrix to a Walker we are sampling the orbit such a walker might take.\n"
   ]
  },
  {
   "cell_type": "code",
   "execution_count": 98,
   "metadata": {},
   "outputs": [],
   "source": [
    "from itertools import tee\n",
    "import random\n",
    "import matplotlib.pyplot as plt; plt.rcdefaults()\n",
    "import numpy as np\n",
    "import matplotlib.pyplot as plt\n",
    "import math\n",
    "\n",
    "# For generating pairwise elements in a list. [1,2,3,4,5] becomes (1,2), (2,3), (3,4), (4,5)\n",
    "def pairwise(iterable):\n",
    "    a, b = tee(iterable)\n",
    "    next(b, None)\n",
    "    return zip(a, b)\n",
    "\n",
    "# For running random walks on the graph\n",
    "class Walker:\n",
    "    def __init__(self, state):\n",
    "        self.state = state\n",
    "\n",
    "\n",
    "# Abstaction of single state such as in the Walker class to a distrubution of states.\n",
    "class State:\n",
    "    def __init__(self, states):\n",
    "        self.states = {state: 0  for state in states}\n",
    "        \n",
    "    def __str__(self):\n",
    "        string = ''\n",
    "        count = 0\n",
    "        print('-------------------------------------------------------------------------------')\n",
    "        for i, k in self.states.items():\n",
    "            count = count + 1\n",
    "            string = string + '{}  :  {:.5f}  |  '.format(i, k)\n",
    "            if count > 5:\n",
    "                string = string + '\\n'\n",
    "                count = 0.\n",
    "        return string\n",
    "    \n",
    "    def draw(self):\n",
    "        objects = self.states.keys()\n",
    "        y_pos = np.arange(len(objects))\n",
    "        performance = [val for k, val in self.states.items()]\n",
    "        plt.bar(y_pos, performance, align='center', alpha=0.5)\n",
    "        plt.xticks(y_pos, objects)\n",
    "        plt.ylabel('density')\n",
    "        plt.title('Word occurence orbit frequency')\n",
    "        plt.show()\n",
    "    \n",
    "    @classmethod\n",
    "    def from_orbit(cls, orbit):\n",
    "        instance = cls(orbit)\n",
    "        for point in orbit:\n",
    "            instance.states[point] = instance.states.get(point, 0) + 1\n",
    "        for key, value in instance.states.items():\n",
    "            instance.states[key] = instance.states[key]/len(orbit) \n",
    "        return instance\n",
    "\n",
    "    @classmethod\n",
    "    def from_uniform(cls, states):\n",
    "        instance = cls(states)\n",
    "        for key, value in instance.states.items():\n",
    "            instance.states[key] = 1/len(instance.states) \n",
    "        return instance\n",
    "\n",
    "    \n",
    "    def __sub__(self, other):\n",
    "        difference = State(self.states.keys())\n",
    "        for key, _ in difference.states.items():\n",
    "            difference.states[key] = abs(self.states.get(key, 0) - other.states.get(key, 0))\n",
    "        return difference\n",
    "    \n",
    "    def dist(self, other):\n",
    "        diff = other - self\n",
    "        return math.sqrt(sum([v**2 for _, v in diff.states.items()]))\n",
    "\n",
    "# Going to map between states with this class\n",
    "class TransitionMatrix:\n",
    "    def __init__(self, states, data=None):\n",
    "        self.p = {state: {} for state in states}\n",
    "        if data is None:\n",
    "            data = states\n",
    "        self._count(data)\n",
    "        self._normalize()\n",
    "\n",
    "    def _count(self, states):\n",
    "        for letter_1, letter_2 in pairwise(states):\n",
    "            self.p[letter_1][letter_2] = self.p[letter_1].get(letter_2, 0) + 1\n",
    "        \n",
    "    def _normalize(self):\n",
    "        for key, val in self.p.items():\n",
    "            row_total = sum([count for _, count in val.items()])\n",
    "            for target, count in val.items():\n",
    "                self.p[key][target] = self.p[key][target]/row_total\n",
    "            \n",
    "    # computes transpose\n",
    "    def T(self):\n",
    "        newt = TransitionMatrix([state for state, _ in self.p.items()], data=[])\n",
    "        for s_1, P in self.p.items():\n",
    "            for s_2, p in P.items():\n",
    "                newt.p[s_2][s_1] = p\n",
    "        return newt\n",
    "        \n",
    "    def __matmul__(self, other):\n",
    "        \"\"\"If applying the transistion matrix class to a Walker class then select the next state at random. \n",
    "        If applying to a State class we generate a new distrbution. \"\"\"\n",
    "\n",
    "        if isinstance(other, State):\n",
    "            new_state = State([s for s, _ in other.states.items()])\n",
    "            for s_1, p in other.states.items():\n",
    "                sum_p_s2_s1 = 0\n",
    "                for s_2, P in self.p.items():\n",
    "                    sum_p_s2_s1 = sum_p_s2_s1 + other.states[s_2]*P.get(s_1, 0)\n",
    "                new_state.states[s_1] = sum_p_s2_s1 \n",
    "            return new_state\n",
    "\n",
    "        if isinstance(other, Walker):\n",
    "            ps = self.p[other.state]\n",
    "            choices = [*ps.keys()]\n",
    "            weights = [*ps.values()]\n",
    "            choice = random.choices(choices, weights=weights).pop()\n",
    "            return Walker(choice)\n",
    "    \n"
   ]
  },
  {
   "cell_type": "markdown",
   "metadata": {},
   "source": [
    "## Creating A Transistion Matrix\n",
    "\n",
    "___\n",
    "\n",
    "So i'm going to get the transistion matrix associated to the letter pairs in the above introduction. The class essentially counts through each adjacent pair of letters and records the frequencies they occur. It then normalizes these frequencys so that given a state the sum of probabailties for transitions to each other state from that state is 1."
   ]
  },
  {
   "cell_type": "code",
   "execution_count": 99,
   "metadata": {},
   "outputs": [],
   "source": [
    "import re\n",
    "\n",
    "intro = \"\"\"## Intro \n",
    "So this is going to try and explain how the metropolis hastings algorithm can be used to sample unbiased samples from networks. We're assuming that we can't just draw samples from the population directly which is often the case. For instance the twitter api doesn't expose a representative sample endpoint for there users. Suppose you have a collection of states ${s_1,...,s_n}$. We're going to denote the probabaility of $s_i$ moving to $s_j$ as given by $p_{i,j}$. The states can really be anything, for instance they could encode letters and the probabailties $p_{a, b}$ would be the probabilty for finding the letters 'a' and 'b' next to each other in a sentance. I'm going to represent three objects of interest using classes. \n",
    "1. The first is a walker class. We're going to use this to generate random walks from the graph. It stores only a single state so for instance perhaps the letter 'l'. \n",
    "2. The next is called State and represents distrubutions of walkers. So picture each walker as an individual in a population. Suppose for this popultaion 50% of the walker individuals are sat on the letter 'l' then we represent that by setting the dictionary value for 'l' to 0.5. This is a vector representation of how things, in this case our walkers, are distrubuted across the network. \n",
    "3. The transistion Matrix class encodes the probabailiies of transistions in states.  So exactly the $p_{i,j}$ above. In this case we're looking at transistions between letters. This class acts on each of the above objects in predicatble ways. \n",
    "    - In the first case a tansition matrix applied to a walker will update the state of the walker to a new state dependent on the trasnition probabilities. So if the walker is sitting in the 'l' state and $p_{l,o}=0.25$, $p_{l,s}=0.25$ and $p_{l,t}=0.5$ then 'l' is going to move to t half of the time and 'o' and 's' 25 percent of the time. \n",
    "    - In the second T is going to evolve the distrubution of states in proportion to the transistion probabailities. so suppse half of your walkers are hanging around on 'l' and the other half are hanging around on 't'. Suppose $p_{l,s}=0.7$ and $p_{t,s}=0.3$ then we calculate the probortion of walkers that will step from 'l' to 's' or 't' to 's' by: $$0.5 \\times p_{l,s} + 0.5 \\times p_{t,s} = 0.5 \\times 0.7 + 0.5 \\times 0.3 = 0.5 $$ So this would mean half the population of walkers end up stat on 's' after one time step.\n",
    "    In the case of applying the transistion Matrix to a State we are evolving the probabailities of walkers being in a particular states. In the case of applying the transistion Matrix to a Walker we are sampling the orbit such a walker might take.\n",
    "\"\"\"\n",
    "\n",
    "cleaned_intro = re.sub(r'\\W+', '', intro)\n",
    "\n",
    "T = TransitionMatrix(cleaned_intro)\n"
   ]
  },
  {
   "cell_type": "markdown",
   "metadata": {},
   "source": [
    "So now we can see which letters can go to which other letters and how likely they are to do so. We just look at `T.p['u']`."
   ]
  },
  {
   "cell_type": "code",
   "execution_count": 100,
   "metadata": {},
   "outputs": [
    {
     "data": {
      "text/plain": [
       "{'s': 0.13157894736842105,\n",
       " 'n': 0.07894736842105263,\n",
       " 'm': 0.02631578947368421,\n",
       " 'l': 0.23684210526315788,\n",
       " 'p': 0.15789473684210525,\n",
       " 'h': 0.02631578947368421,\n",
       " 'b': 0.07894736842105263,\n",
       " 't': 0.07894736842105263,\n",
       " 'r': 0.07894736842105263,\n",
       " 'a': 0.05263157894736842,\n",
       " 'e': 0.02631578947368421,\n",
       " 'c': 0.02631578947368421}"
      ]
     },
     "execution_count": 100,
     "metadata": {},
     "output_type": "execute_result"
    }
   ],
   "source": [
    "T.p['u']"
   ]
  },
  {
   "cell_type": "markdown",
   "metadata": {},
   "source": [
    "We can verify the sum of these values is 1. Becuase this is a descrete probabaility distrubution we require that these values sums to one. This essentailly encodes the fact that something has to happen with certain probability!"
   ]
  },
  {
   "cell_type": "code",
   "execution_count": 101,
   "metadata": {},
   "outputs": [
    {
     "data": {
      "text/plain": [
       "1.0"
      ]
     },
     "execution_count": 101,
     "metadata": {},
     "output_type": "execute_result"
    }
   ],
   "source": [
    "sum([v for _,v in T.p['u'].items()])"
   ]
  },
  {
   "cell_type": "markdown",
   "metadata": {},
   "source": [
    "## Sampling orbits\n",
    "\n",
    "___\n",
    "\n",
    "So first lets draw a orbit from the state space by iterativly applying a transition matrix to a walker. Note that on the TransitionMatrix class i've overidden the Matrix Multiplication base method (`__matmul__`). This just allows us to write:\n",
    "\n",
    "```py\n",
    "T@w\n",
    "```\n",
    "\n",
    "Where T is an instance of TransitionMatrix and w a walker or a state. This is kind of cute on my part it's not really nessesery. You could just as easily write a multiply method which would look like:\n",
    "\n",
    "```py\n",
    "T.multiply(w)\n",
    "```\n",
    "\n",
    "Which is perhaps more readable\n"
   ]
  },
  {
   "cell_type": "code",
   "execution_count": 158,
   "metadata": {},
   "outputs": [
    {
     "name": "stdout",
     "output_type": "stream",
     "text": [
      "['t', 's', 't', 'o', 't', 'o', 'i', 'e', 'g', 't', 'h']\n"
     ]
    }
   ],
   "source": [
    "m = State(cleaned_intro)\n",
    "T = TransitionMatrix(cleaned_intro)\n",
    "w = Walker('t')\n",
    "w.state\n",
    "orbit = [w]\n",
    "\n",
    "for i in range(10):\n",
    "    orbit.append(T@orbit[-1])\n",
    "\n",
    "print([o.state for o in orbit])"
   ]
  },
  {
   "cell_type": "markdown",
   "metadata": {},
   "source": [
    "We can compute the probabaility of a given orbit by multiplying the probabailites of each of the trasnistions. So given an orbit $o=[s_1, s_2, ..., s_n]$ it's liklyhood of occuring is:\n",
    "$$p(o) = \\prod_{i=0}^{n}p(s_i|s_{i-1})$$\n",
    "where $p(s_i| s_{i-1}) = p_{s_{i-1},s_i}$ is the probability of $s_{i-1}$ going to $s_i$."
   ]
  },
  {
   "cell_type": "code",
   "execution_count": 159,
   "metadata": {},
   "outputs": [
    {
     "name": "stdout",
     "output_type": "stream",
     "text": [
      "t  ->  s  with prob: 0.03587443946188341\n",
      "s  ->  t  with prob: 0.21604938271604937\n",
      "t  ->  o  with prob: 0.11210762331838565\n",
      "o  ->  t  with prob: 0.052980132450331126\n",
      "t  ->  o  with prob: 0.11210762331838565\n",
      "o  ->  i  with prob: 0.052980132450331126\n",
      "i  ->  e  with prob: 0.041666666666666664\n",
      "e  ->  g  with prob: 0.012987012987012988\n",
      "g  ->  t  with prob: 0.3783783783783784\n",
      "t  ->  h  with prob: 0.2600896860986547\n",
      "--------------------------------\n",
      "prob of orbit:  1.4560691471378667e-11\n"
     ]
    }
   ],
   "source": [
    "p_o = 1\n",
    "for s_1, s_2 in pairwise(orbit):\n",
    "    print(s_1.state, ' -> ' ,s_2.state, ' with prob:',T.p[s_1.state][s_2.state])\n",
    "    p_o = p_o*T.p[s_1.state][s_2.state]\n",
    "\n",
    "print('--------------------------------')\n",
    "print('prob of orbit: ', p_o)"
   ]
  },
  {
   "cell_type": "markdown",
   "metadata": {},
   "source": [
    "The outcome is very small which is to be expected given that the number of possible orbits grows large fast."
   ]
  },
  {
   "cell_type": "markdown",
   "metadata": {},
   "source": [
    "## Distrubutions\n",
    "\n",
    "---\n",
    "\n",
    "So the State class represents distrubutions on the set of letters that make up the nodes of the network. We can think of these both as probability distrubutions or also mass distrubutions. If it's the probabailty distrubution then your saying these are the probabailty that the system is in these states, or there's this probabilty that the walker is sitting on this state. In the mass case your thinking of a population of walkers and the probabilty becomes the density or proportion of walkers sitting in a particular state.\n",
    "\n",
    "Suppose we want to draw a representative sample of this network. In this case we're drawing an analogy between twitter and the letters in our network. So a representative sample of the network just means a representative sample of the nodes, in our case letters, (Twitters: users).\n",
    "\n",
    "This can be represented by a density that's uniform across all the letters. I've defined a class method that builds this for you:"
   ]
  },
  {
   "cell_type": "code",
   "execution_count": 160,
   "metadata": {},
   "outputs": [
    {
     "name": "stdout",
     "output_type": "stream",
     "text": [
      "-------------------------------------------------------------------------------\n",
      "I  :  0.02703  |  n  :  0.02703  |  t  :  0.02703  |  r  :  0.02703  |  o  :  0.02703  |  S  :  0.02703  |  \n",
      "h  :  0.02703  |  i  :  0.02703  |  s  :  0.02703  |  g  :  0.02703  |  y  :  0.02703  |  a  :  0.02703  |  \n",
      "d  :  0.02703  |  e  :  0.02703  |  x  :  0.02703  |  p  :  0.02703  |  l  :  0.02703  |  w  :  0.02703  |  \n",
      "m  :  0.02703  |  c  :  0.02703  |  b  :  0.02703  |  u  :  0.02703  |  f  :  0.02703  |  k  :  0.02703  |  \n",
      "W  :  0.02703  |  j  :  0.02703  |  F  :  0.02703  |  v  :  0.02703  |  _  :  0.02703  |  1  :  0.02703  |  \n",
      "T  :  0.02703  |  2  :  0.02703  |  5  :  0.02703  |  0  :  0.02703  |  3  :  0.02703  |  M  :  0.02703  |  \n",
      "7  :  0.02703  |  \n"
     ]
    },
    {
     "data": {
      "image/png": "[encoded data removed]",
      "text/plain": [
       "<Figure size 640x480 with 1 Axes>"
      ]
     },
     "metadata": {},
     "output_type": "display_data"
    }
   ],
   "source": [
    "m = State(cleaned_intro)\n",
    "uniform = State.from_uniform(m.states.keys())\n",
    "print(uniform)\n",
    "uniform.draw()"
   ]
  },
  {
   "cell_type": "markdown",
   "metadata": {},
   "source": [
    "In our case we can sample this uniform distrubution easily becuase i've writen a method that does so. However in general this might not be possible. You may only have access to local information about the network at any time and be unable to sample from the full structure. One thing we could try is sampling an orbit: "
   ]
  },
  {
   "cell_type": "code",
   "execution_count": 161,
   "metadata": {},
   "outputs": [
    {
     "name": "stdout",
     "output_type": "stream",
     "text": [
      "-------------------------------------------------------------------------------\n",
      "t  :  0.10938  |  i  :  0.07319  |  m  :  0.01160  |  e  :  0.11778  |  s  :  0.08178  |  g  :  0.01860  |  \n",
      "a  :  0.08518  |  l  :  0.04519  |  v  :  0.00680  |  n  :  0.07199  |  h  :  0.03679  |  2  :  0.00160  |  \n",
      "5  :  0.00640  |  0  :  0.00680  |  T  :  0.00400  |  d  :  0.02500  |  p  :  0.03319  |  f  :  0.02020  |  \n",
      "r  :  0.05739  |  u  :  0.01600  |  y  :  0.00640  |  x  :  0.00420  |  o  :  0.07059  |  w  :  0.01660  |  \n",
      "b  :  0.01580  |  j  :  0.00260  |  _  :  0.00800  |  c  :  0.02160  |  3  :  0.00100  |  k  :  0.00960  |  \n",
      "I  :  0.00520  |  7  :  0.00100  |  S  :  0.00460  |  F  :  0.00080  |  M  :  0.00120  |  W  :  0.00160  |  \n",
      "1  :  0.00040  |  \n"
     ]
    },
    {
     "data": {
      "image/png": "[encoded data removed]",
      "text/plain": [
       "<Figure size 640x480 with 1 Axes>"
      ]
     },
     "metadata": {},
     "output_type": "display_data"
    }
   ],
   "source": [
    "m = State(cleaned_intro)\n",
    "T = TransitionMatrix(cleaned_intro)\n",
    "w = Walker('t')\n",
    "w.state\n",
    "orbit = [w]\n",
    "\n",
    "for i in range(5000):\n",
    "    orbit.append(T@orbit[-1])\n",
    "\n",
    "orbit_dist = State.from_orbit([o.state for o in orbit])\n",
    "print(orbit_dist)\n",
    "orbit_dist.draw()"
   ]
  },
  {
   "cell_type": "markdown",
   "metadata": {},
   "source": [
    "So this cleary hasn't converged to a representative sample of the network as it's hevily biased towards certain nodes. Notice t,e and a come up alot but 1, 2 and 3 don't. We can take a look:"
   ]
  },
  {
   "cell_type": "code",
   "execution_count": 162,
   "metadata": {},
   "outputs": [
    {
     "name": "stdout",
     "output_type": "stream",
     "text": [
      "Num connections for t:  19\n",
      "Num connections for e:  23\n",
      "Num connections for a:  18\n",
      "\n",
      " whereas \n",
      "\n",
      "Num connections for t:  2\n",
      "Num connections for e:  2\n",
      "Num connections for a:  3\n"
     ]
    }
   ],
   "source": [
    "print('Num connections for t: ', len(T.p['t']))\n",
    "print('Num connections for e: ', len(T.p['e']))\n",
    "print('Num connections for a: ', len(T.p['a']))\n",
    "print('\\n whereas \\n')\n",
    "print('Num connections for t: ', len(T.p['1']))\n",
    "print('Num connections for e: ', len(T.p['2']))\n",
    "print('Num connections for a: ', len(T.p['3']))"
   ]
  },
  {
   "cell_type": "markdown",
   "metadata": {},
   "source": [
    "## similarity of distrubutions:\n",
    "\n",
    "___\n",
    "\n",
    "We want a measure of similartity between distrubutions. To get this we just subract the two vectors from each other, sum the square of the differences and take the square root of the sum. \n",
    "\n",
    "$$dist(p_1, p_2) = \\sqrt{\\sum_{i=0}^{N}(p_1[i] - p_2[i])^2}$$\n",
    "\n",
    "So for two equal distrubutions we get: "
   ]
  },
  {
   "cell_type": "code",
   "execution_count": 163,
   "metadata": {},
   "outputs": [
    {
     "data": {
      "text/plain": [
       "0.0"
      ]
     },
     "execution_count": 163,
     "metadata": {},
     "output_type": "execute_result"
    }
   ],
   "source": [
    "uniform.dist(uniform)"
   ]
  },
  {
   "cell_type": "markdown",
   "metadata": {},
   "source": [
    "and for two unequal distrubutions we have a value greater than zero:"
   ]
  },
  {
   "cell_type": "code",
   "execution_count": 165,
   "metadata": {},
   "outputs": [
    {
     "data": {
      "text/plain": [
       "0.19812283676445708"
      ]
     },
     "execution_count": 165,
     "metadata": {},
     "output_type": "execute_result"
    }
   ],
   "source": [
    "orbit_dist.dist(uniform)"
   ]
  },
  {
   "cell_type": "markdown",
   "metadata": {},
   "source": [
    "this gives us a method for examining convergence.\n",
    "    - For instance is it the case that two different orbits are converging to the same distrubution. \n",
    "    - And how does the orbit distrubution converge or not converge w.r.t. the uniform distrubution  \n",
    "    \n",
    "We can test this. The following graphs show how the orbit distrubutions of two random walks converge to each other but neither converge to the uniform distrubution:\n",
    "\n",
    "**Note**: _This is not a fast way of doing this._"
   ]
  },
  {
   "cell_type": "code",
   "execution_count": 166,
   "metadata": {},
   "outputs": [
    {
     "data": {
      "image/png": "[encoded data removed]",
      "text/plain": [
       "<Figure size 640x480 with 1 Axes>"
      ]
     },
     "metadata": {},
     "output_type": "display_data"
    }
   ],
   "source": [
    "T = TransitionMatrix(cleaned_intro)\n",
    "orbit_1 = [Walker('t')]\n",
    "orbit_2 = [Walker('o')]\n",
    "differences_1 = []\n",
    "differences_2 = []\n",
    "differences_3 = []\n",
    "\n",
    "for i in range(5000):\n",
    "    orbit_1.append(T@orbit_1[-1])\n",
    "    orbit_2.append(T@orbit_2[-1])\n",
    "    orbit_dist_1 = State.from_orbit([o.state for o in orbit_1])\n",
    "    orbit_dist_2 = State.from_orbit([o.state for o in orbit_2])\n",
    "    differences_1.append(orbit_dist_1.dist(orbit_dist_2))\n",
    "    differences_2.append(orbit_dist_1.dist(uniform))\n",
    "    differences_3.append(orbit_dist_2.dist(uniform))\n",
    "    \n",
    "plt.plot(differences_1)\n",
    "plt.plot(differences_2)\n",
    "plt.plot(differences_3)\n",
    "plt.title('Distance between orbit distrubutions')\n",
    "plt.ylabel('difference')\n",
    "plt.xlabel('time')\n",
    "plt.show()\n"
   ]
  }
 ],
 "metadata": {
  "kernelspec": {
   "display_name": "Python 3",
   "language": "python",
   "name": "python3"
  },
  "language_info": {
   "codemirror_mode": {
    "name": "ipython",
    "version": 3
   },
   "file_extension": ".py",
   "mimetype": "text/x-python",
   "name": "python",
   "nbconvert_exporter": "python",
   "pygments_lexer": "ipython3",
   "version": "3.6.9"
  }
 },
 "nbformat": 4,
 "nbformat_minor": 4
}

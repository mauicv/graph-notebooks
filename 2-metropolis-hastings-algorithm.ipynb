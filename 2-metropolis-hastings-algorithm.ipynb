{
 "cells": [
  {
   "cell_type": "markdown",
   "metadata": {},
   "source": [
    "## Evolving densities\n",
    "\n",
    "So instead of looking at orbits lets look at densities on a  graph (Same as a distrubution, represented by the State class). We're  going to build a slighly simpler notion of graph here. Firstly its going to be bidirectional so a connection between nodes a and b corresponds to a connection between b and a. Secondly i'm going to assume the weights are equally distrubuted. So for any random walker moving on this graph if its in a particular state and that state is connected to n other states then the walker moves to one of those states with a probabaility $1/n$ \n",
    "\n"
   ]
  },
  {
   "cell_type": "code",
   "execution_count": 238,
   "metadata": {},
   "outputs": [],
   "source": [
    "import random\n",
    "import numpy as np\n",
    "import matplotlib.pyplot as plt\n",
    "import math\n",
    "\n",
    "\n",
    "# For running random walks on the graph\n",
    "class Walker:\n",
    "    def __init__(self, state):\n",
    "        self.state = state\n",
    "        \n",
    "\n",
    "# For running metropolos hastings algorithm on the graph\n",
    "class MetropolisWalker:\n",
    "    def __init__(self, state):\n",
    "        self.state = state\n",
    "\n",
    "\n",
    "# Abstaction of single state such as in the Walker class to a distrubution of states.\n",
    "class State:\n",
    "    def __init__(self, states):\n",
    "        self.states = {state: 0  for state in states}\n",
    "        \n",
    "    def draw(self):\n",
    "        people = self.states.keys()\n",
    "        density = [self.states[person] for person in people]\n",
    "        y_pos = np.arange(len(people))\n",
    "#         density.sort(reverse = True)\n",
    "        plt.bar(y_pos, density, align='center', alpha=0.5)\n",
    "        plt.ylabel('density')\n",
    "        plt.title('Word occurence orbit frequency')\n",
    "        plt.show()\n",
    "\n",
    "    @classmethod\n",
    "    def from_orbit(cls, orbit):\n",
    "        instance = cls(orbit)\n",
    "        for point in orbit:\n",
    "            instance.states[point] = instance.states.get(point, 0) + 1\n",
    "        for key, value in instance.states.items():\n",
    "            instance.states[key] = instance.states[key]/len(orbit) \n",
    "        return instance\n",
    "\n",
    "    @classmethod\n",
    "    def from_uniform(cls, states):\n",
    "        instance = cls(states)\n",
    "        for key, value in instance.states.items():\n",
    "            instance.states[key] = 1/len(instance.states) \n",
    "        return instance\n",
    "    \n",
    "    def __sub__(self, other):\n",
    "        difference = State(self.states.keys())\n",
    "        for key, _ in difference.states.items():\n",
    "            difference.states[key] = abs(self.states.get(key, 0) - other.states.get(key, 0))\n",
    "        return difference\n",
    "    \n",
    "    def dist(self, other):\n",
    "        diff = other - self\n",
    "        return math.sqrt(sum([v**2 for _, v in diff.states.items()]))\n",
    "\n",
    "\n",
    "# Going to map between states with this class\n",
    "class TransitionMatrix:\n",
    "    def __init__(self, states):\n",
    "        self.p = {state: {} for state in states}\n",
    "        \n",
    "    @classmethod\n",
    "    def uniform_bidirected(cls, states, alpha):\n",
    "        instance = cls(states)\n",
    "        for key, node in instance.p.items():\n",
    "            num_connections = random.randint(0, len(instance.p))\n",
    "            connections = random.sample(instance.p.keys(), num_connections)\n",
    "            for c in connections:\n",
    "                if random.random() > alpha:\n",
    "                    instance.p[key][c] = 1\n",
    "                    instance.p[c][key] = 1\n",
    "        instance._normalize()\n",
    "        return instance\n",
    "        \n",
    "    def _normalize(self):\n",
    "        for key, val in self.p.items():\n",
    "            row_total = sum([count for _, count in val.items()])\n",
    "            for target, count in val.items():\n",
    "                self.p[key][target] = self.p[key][target]/row_total\n",
    "\n",
    "        \n",
    "    def __matmul__(self, other):\n",
    "        \"\"\"If applying the transistion matrix class to a Walker class then select the next state at random. \n",
    "        If applying to a State class we generate a new distrbution. \"\"\"\n",
    "\n",
    "        if isinstance(other, State):\n",
    "            new_state = State([s for s, _ in other.states.items()])\n",
    "            for s_1, p in other.states.items():\n",
    "                sum_p_s2_s1 = 0\n",
    "                for s_2, P in self.p.items():\n",
    "                    sum_p_s2_s1 = sum_p_s2_s1 + other.states[s_2]*P.get(s_1, 0)\n",
    "                new_state.states[s_1] = sum_p_s2_s1 \n",
    "            return new_state\n",
    "\n",
    "        if isinstance(other, Walker):\n",
    "            ps = self.p[other.state]\n",
    "            choices = [*ps.keys()]\n",
    "            weights = [*ps.values()]\n",
    "            choice = random.choices(choices, weights=weights).pop()\n",
    "            return Walker(choice)\n",
    "        \n",
    "        if isinstance(other, MetropolisWalker):\n",
    "            ps = self.p[other.state]\n",
    "            choices = [*ps.keys()]\n",
    "            weights = [*ps.values()]\n",
    "            choice = random.choices(choices, weights=weights).pop()\n",
    "\n",
    "            p_c_s = self.p[choice][other.state]\n",
    "            p_s_c = self.p[other.state][choice]\n",
    "            p_a = random.random()\n",
    "\n",
    "            if p_a < min(1, p_c_s/p_s_c):\n",
    "                return MetropolisWalker(choice)\n",
    "            else:\n",
    "                return MetropolisWalker(other.state)\n",
    "    \n"
   ]
  },
  {
   "cell_type": "code",
   "execution_count": 239,
   "metadata": {},
   "outputs": [
    {
     "data": {
      "image/png": "[encoded data removed]",
      "text/plain": [
       "<Figure size 432x288 with 1 Axes>"
      ]
     },
     "metadata": {
      "needs_background": "light"
     },
     "output_type": "display_data"
    }
   ],
   "source": [
    "from faker import Faker\n",
    "fake = Faker()\n",
    "\n",
    "states = [fake.name() for _ in range(500)]\n",
    "T = TransitionMatrix.uniform_bidirected(states, 0.9)\n",
    "\n",
    "\n",
    "people = T.p.keys()\n",
    "num_friends = [len(T.p[person]) for person in people]\n",
    "y_pos = np.arange(len(people))\n",
    "num_friends.sort(reverse = True)\n",
    "plt.bar(y_pos, num_friends, align='center', alpha=0.5)\n",
    "plt.ylabel('density')\n",
    "plt.title('Word occurence orbit frequency')\n",
    "plt.show()"
   ]
  },
  {
   "cell_type": "code",
   "execution_count": 240,
   "metadata": {},
   "outputs": [
    {
     "name": "stdout",
     "output_type": "stream",
     "text": [
      "distance from uniform:  0.014628883859997659\n"
     ]
    },
    {
     "data": {
      "image/png": "[encoded data removed]",
      "text/plain": [
       "<Figure size 432x288 with 1 Axes>"
      ]
     },
     "metadata": {
      "needs_background": "light"
     },
     "output_type": "display_data"
    }
   ],
   "source": [
    "uniform = State.from_uniform(states)\n",
    "\n",
    "person = random.choice(states)\n",
    "orbit = [Walker(person)]\n",
    "\n",
    "for i in range(1000000):\n",
    "    orbit.append(T@orbit[-1])\n",
    "\n",
    "orbit_dist = State.from_orbit([o.state for o in orbit])\n",
    "\n",
    "print('distance from uniform: ', orbit_dist.dist(uniform))\n",
    "orbit_dist.draw()"
   ]
  },
  {
   "cell_type": "code",
   "execution_count": 241,
   "metadata": {},
   "outputs": [],
   "source": [
    "person = random.choice(states)\n",
    "uniform = State.from_uniform(states)\n",
    "\n",
    "orbit_1 = [MetropolisWalker(person)]\n",
    "orbit_2 = [Walker(person)]\n",
    "\n",
    "differences_1 = []\n",
    "differences_2 = []\n",
    "differences_3 = []\n",
    "\n",
    "for i in range(10000):\n",
    "    orbit_1.append(T@orbit_1[-1])\n",
    "    orbit_2.append(T@orbit_2[-1])\n",
    "    orbit_dist_1 = State.from_orbit([o.state for o in orbit_1])\n",
    "    orbit_dist_2 = State.from_orbit([o.state for o in orbit_2])\n",
    "    differences_1.append(orbit_dist_1.dist(orbit_dist_2))\n",
    "    differences_2.append(orbit_dist_1.dist(uniform))\n",
    "    differences_3.append(orbit_dist_2.dist(uniform))\n"
   ]
  },
  {
   "cell_type": "code",
   "execution_count": 242,
   "metadata": {},
   "outputs": [
    {
     "data": {
      "image/png": "[encoded data removed]",
      "text/plain": [
       "<Figure size 432x288 with 1 Axes>"
      ]
     },
     "metadata": {
      "needs_background": "light"
     },
     "output_type": "display_data"
    },
    {
     "name": "stdout",
     "output_type": "stream",
     "text": [
      "Normal walker: 0.021432408305679558\n",
      "Metropolis walker: 0.0130918180229567\n"
     ]
    }
   ],
   "source": [
    "# plt.plot(differences_1[:])\n",
    "plt.plot(differences_2[1000:]) # metropolis walker\n",
    "plt.plot(differences_3[1000:]) # normal walker\n",
    "plt.title('Distance between orbit distrubutions')\n",
    "plt.ylabel('difference')\n",
    "plt.xlabel('time')\n",
    "plt.show()\n",
    "\n",
    "print('Normal walker: {}'.format(differences_1[-1]))\n",
    "print('Metropolis walker: {}'.format(differences_2[-1]))"
   ]
  },
  {
   "cell_type": "code",
   "execution_count": 243,
   "metadata": {},
   "outputs": [
    {
     "name": "stdout",
     "output_type": "stream",
     "text": [
      "distance from uniform:  0.0007838692713636189\n"
     ]
    },
    {
     "data": {
      "image/png": "[encoded data removed]",
      "text/plain": [
       "<Figure size 432x288 with 1 Axes>"
      ]
     },
     "metadata": {
      "needs_background": "light"
     },
     "output_type": "display_data"
    }
   ],
   "source": [
    "person = random.choice(states)\n",
    "\n",
    "orbit = [MetropolisWalker(person)]\n",
    "\n",
    "for i in range(3000000):\n",
    "    orbit.append(T@orbit[-1])\n",
    "\n",
    "orbit_dist = State.from_orbit([o.state for o in orbit])\n",
    "\n",
    "print('distance from uniform: ', orbit_dist.dist(uniform))\n",
    "orbit_dist.draw()"
   ]
  },
  {
   "cell_type": "code",
   "execution_count": null,
   "metadata": {},
   "outputs": [],
   "source": []
  }
 ],
 "metadata": {
  "kernelspec": {
   "display_name": "Python 3",
   "language": "python",
   "name": "python3"
  },
  "language_info": {
   "codemirror_mode": {
    "name": "ipython",
    "version": 3
   },
   "file_extension": ".py",
   "mimetype": "text/x-python",
   "name": "python",
   "nbconvert_exporter": "python",
   "pygments_lexer": "ipython3",
   "version": "3.6.9"
  }
 },
 "nbformat": 4,
 "nbformat_minor": 4
}

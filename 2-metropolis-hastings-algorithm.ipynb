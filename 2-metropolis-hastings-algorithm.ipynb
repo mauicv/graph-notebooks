{
 "cells": [
  {
   "cell_type": "markdown",
   "metadata": {},
   "source": [
    "## Metropolis Hastings Random Walk on Graphs \n",
    "\n",
    "We're  going to build a slighly simpler notion of graph here than in part 1. Firstly its going to be bidirectional so a connection between nodes a and b corresponds to a connection between b and a. Instead of building a graph out of text i'm going to instead build one by taking a collection of nodes and then connecting each with some probability, we're also going to assume the weights on a single node are equally distrubuted. So for any random walker moving on this graph if its in a particular state and that state is connected to $n$ other states then the probability that the walker moves to each of those states is $1/n$\n",
    "\n",
    "The following wall of code (sorry) is basically the same as in part 1 except the `TransitionMartix` matrix multiplication method now has an extra case included for a new class i've defined called `MetropolisWalker`. This way the matrix is applied differently to Metropolis Walkers than to normal walkers."
   ]
  },
  {
   "cell_type": "code",
   "execution_count": 10,
   "metadata": {},
   "outputs": [],
   "source": [
    "import random\n",
    "import numpy as np\n",
    "import matplotlib.pyplot as plt\n",
    "import math\n",
    "\n",
    "\n",
    "# For running random walks on the graph\n",
    "class Walker:\n",
    "    def __init__(self, state):\n",
    "        self.state = state\n",
    "        \n",
    "\n",
    "# For running metropolos hastings algorithm on the graph\n",
    "class MetropolisWalker:\n",
    "    def __init__(self, state):\n",
    "        self.state = state\n",
    "\n",
    "\n",
    "# Abstaction of single state such as in the Walker class to a distrubution of states.\n",
    "class State:\n",
    "    def __init__(self, states):\n",
    "        self.states = {state: 0  for state in states}\n",
    "        \n",
    "    def draw(self):\n",
    "        people = self.states.keys()\n",
    "        density = [self.states[person] for person in people]\n",
    "        y_pos = np.arange(len(people))\n",
    "#         density.sort(reverse = True)\n",
    "        plt.bar(y_pos, density, align='center', alpha=0.5)\n",
    "        plt.ylabel('density')\n",
    "        plt.title('Node Visiting Rates')\n",
    "        plt.show()\n",
    "\n",
    "    @classmethod\n",
    "    def from_orbit(cls, orbit):\n",
    "        instance = cls(orbit)\n",
    "        for point in orbit:\n",
    "            instance.states[point] = instance.states.get(point, 0) + 1\n",
    "        for key, value in instance.states.items():\n",
    "            instance.states[key] = instance.states[key]/len(orbit) \n",
    "        return instance\n",
    "\n",
    "    @classmethod\n",
    "    def from_uniform(cls, states):\n",
    "        instance = cls(states)\n",
    "        for key, value in instance.states.items():\n",
    "            instance.states[key] = 1/len(instance.states) \n",
    "        return instance\n",
    "    \n",
    "    def __sub__(self, other):\n",
    "        difference = State(self.states.keys())\n",
    "        for key, _ in difference.states.items():\n",
    "            difference.states[key] = abs(self.states.get(key, 0) - other.states.get(key, 0))\n",
    "        return difference\n",
    "    \n",
    "    def dist(self, other):\n",
    "        diff = other - self\n",
    "        return math.sqrt(sum([v**2 for _, v in diff.states.items()]))\n",
    "\n",
    "\n",
    "# Going to map between states with this class\n",
    "class TransitionMatrix:\n",
    "    def __init__(self, states):\n",
    "        self.p = {state: {} for state in states}\n",
    "        \n",
    "    @classmethod\n",
    "    def uniform_bidirected(cls, states, alpha):\n",
    "        instance = cls(states)\n",
    "        for key, node in instance.p.items():\n",
    "            num_connections = random.randint(0, len(instance.p))\n",
    "            connections = random.sample(instance.p.keys(), num_connections)\n",
    "            for c in connections:\n",
    "                if random.random() > alpha:\n",
    "                    instance.p[key][c] = 1\n",
    "                    instance.p[c][key] = 1\n",
    "        instance._normalize()\n",
    "        return instance\n",
    "        \n",
    "    def _normalize(self):\n",
    "        for key, val in self.p.items():\n",
    "            row_total = sum([count for _, count in val.items()])\n",
    "            for target, count in val.items():\n",
    "                self.p[key][target] = self.p[key][target]/row_total\n",
    "\n",
    "        \n",
    "    def __matmul__(self, other):\n",
    "        \"\"\"If applying the transistion matrix class to a Walker class then select the next state at random. \n",
    "        If applying to a State class we generate a new distrbution. \"\"\"\n",
    "\n",
    "        if isinstance(other, State):\n",
    "            new_state = State([s for s, _ in other.states.items()])\n",
    "            for s_1, p in other.states.items():\n",
    "                sum_p_s2_s1 = 0\n",
    "                for s_2, P in self.p.items():\n",
    "                    sum_p_s2_s1 = sum_p_s2_s1 + other.states[s_2]*P.get(s_1, 0)\n",
    "                new_state.states[s_1] = sum_p_s2_s1 \n",
    "            return new_state\n",
    "\n",
    "        if isinstance(other, Walker):\n",
    "            ps = self.p[other.state]\n",
    "            choices = [*ps.keys()]\n",
    "            weights = [*ps.values()]\n",
    "            choice = random.choices(choices, weights=weights).pop()\n",
    "            return Walker(choice)\n",
    "        \n",
    "        if isinstance(other, MetropolisWalker):\n",
    "            ps = self.p[other.state]\n",
    "            choices = [*ps.keys()]\n",
    "            weights = [*ps.values()]\n",
    "            choice = random.choices(choices, weights=weights).pop()\n",
    "\n",
    "            p_c_s = self.p[choice][other.state]\n",
    "            p_s_c = self.p[other.state][choice]\n",
    "            p_a = random.random()\n",
    "\n",
    "            if p_a < min(1, p_c_s/p_s_c):\n",
    "                return MetropolisWalker(choice)\n",
    "            else:\n",
    "                return MetropolisWalker(other.state)\n",
    "    \n"
   ]
  },
  {
   "cell_type": "markdown",
   "metadata": {},
   "source": [
    "## The Metropoplis Hastings Algorithm\n",
    "\n",
    "___\n",
    "\n",
    "\n",
    "The Metropoplis Hasting Algorithm is a random walk on the graph that aims to obtain a representative sample of the graphs node independent of there connectivity. In a typical random walk a walker on a node `a` goes to a node `b` with probability $1/n_{a}$ where $n_{a}$ is the number of nodes to which `a` is connected. The Metropoloplis Hasting Algorithm is a random walk but where the probabailities have been adjusted. It works like so:\n",
    "\n",
    "1. On node `a` pick a connected node `b` at random. \n",
    "2. Let $p_{a,b}$ be the probabiltiy of  going from `a` to `b`. This will be $1/n_{a}$. Let $p_{b,a}$ be the  probability of going from `b` to `a`, or $1/n_{b}$. \n",
    "3. Let $p$ be the minimum of $1$ and $ \\frac{p_{a,b}}{p_{b,a}} $ \n",
    "4. With probability $p$ go from `a` to `b` otherwise stay at `a`\n",
    "5. Repeat\n",
    "\n",
    "The trick here happens at point 3. If $p_{a,b}$ is greater that $p_{b,a}$ then you go to `b` with probability 1. So if `a` is less connected than `b`... By making this adjustment you reverse the natural tendency for random walks in graphs to visit highly connected nodes more than less connected nodes.\n",
    "\n",
    "It's slightly hard to believe this works. Lets look first at the numerical simulations and see what happends:"
   ]
  },
  {
   "cell_type": "markdown",
   "metadata": {},
   "source": [
    "## Numerical Simulations:\n",
    "\n",
    "___\n",
    "\n",
    "\n",
    "Below we model a network made up of 500 nodes that represent people. The graph displays the number of social links per person"
   ]
  },
  {
   "cell_type": "code",
   "execution_count": 3,
   "metadata": {},
   "outputs": [
    {
     "data": {
      "image/png": "[encoded data removed]",
      "text/plain": [
       "<Figure size 432x288 with 1 Axes>"
      ]
     },
     "metadata": {
      "needs_background": "light"
     },
     "output_type": "display_data"
    }
   ],
   "source": [
    "from faker import Faker\n",
    "fake = Faker()\n",
    "\n",
    "states = [fake.name() for _ in range(500)]\n",
    "T = TransitionMatrix.uniform_bidirected(states, 0.9)\n",
    "\n",
    "\n",
    "people = T.p.keys()\n",
    "num_friends = [len(T.p[person]) for person in people]\n",
    "y_pos = np.arange(len(people))\n",
    "num_friends.sort(reverse = True)\n",
    "plt.bar(y_pos, num_friends, align='center', alpha=0.5)\n",
    "plt.ylabel('density')\n",
    "plt.title('Number Connection Per Person')\n",
    "plt.show()"
   ]
  },
  {
   "cell_type": "markdown",
   "metadata": {},
   "source": [
    "Lets see what happens now if run a random walker orbit on the network. The graph displayed shows the rates at which the orbit visits each node. As you can see it's not uniform and some nodes are visited far more than others."
   ]
  },
  {
   "cell_type": "code",
   "execution_count": 11,
   "metadata": {},
   "outputs": [
    {
     "name": "stdout",
     "output_type": "stream",
     "text": [
      "Node Visiting Rates:  0.013756605858492924\n"
     ]
    },
    {
     "data": {
      "image/png": "[encoded data removed]",
      "text/plain": [
       "<Figure size 432x288 with 1 Axes>"
      ]
     },
     "metadata": {
      "needs_background": "light"
     },
     "output_type": "display_data"
    }
   ],
   "source": [
    "uniform = State.from_uniform(states)\n",
    "\n",
    "person = random.choice(states)\n",
    "orbit = [Walker(person)]\n",
    "\n",
    "for i in range(3000000):\n",
    "    orbit.append(T@orbit[-1])\n",
    "\n",
    "orbit_dist = State.from_orbit([o.state for o in orbit])\n",
    "\n",
    "print('Node Visiting Rates: ', orbit_dist.dist(uniform))\n",
    "orbit_dist.draw()"
   ]
  },
  {
   "cell_type": "markdown",
   "metadata": {},
   "source": [
    "Now instead of a normal random walk lets try a metropolis hastings random walk and see what we get: "
   ]
  },
  {
   "cell_type": "code",
   "execution_count": 12,
   "metadata": {},
   "outputs": [
    {
     "name": "stdout",
     "output_type": "stream",
     "text": [
      "distance from uniform:  0.0007634611742639561\n"
     ]
    },
    {
     "data": {
      "image/png": "[encoded data removed]",
      "text/plain": [
       "<Figure size 432x288 with 1 Axes>"
      ]
     },
     "metadata": {
      "needs_background": "light"
     },
     "output_type": "display_data"
    }
   ],
   "source": [
    "person = random.choice(states)\n",
    "\n",
    "orbit = [MetropolisWalker(person)]\n",
    "\n",
    "for i in range(3000000):\n",
    "    orbit.append(T@orbit[-1])\n",
    "\n",
    "orbit_dist = State.from_orbit([o.state for o in orbit])\n",
    "\n",
    "print('distance from uniform: ', orbit_dist.dist(uniform))\n",
    "orbit_dist.draw()"
   ]
  },
  {
   "cell_type": "markdown",
   "metadata": {},
   "source": [
    "So as you can see the metropolosis hastings random walk looks like it's converging to the uniform distrubution. This means that the orbit is visiting the nodes representativly instead of being biased towards nodes which greater numbers of connections. We can compare the orbits more explicitly (__Warning__: If your running the following it will take a long time and is not the best way of doing this):"
   ]
  },
  {
   "cell_type": "code",
   "execution_count": 13,
   "metadata": {},
   "outputs": [
    {
     "data": {
      "image/png": "[encoded data removed]",
      "text/plain": [
       "<Figure size 432x288 with 1 Axes>"
      ]
     },
     "metadata": {
      "needs_background": "light"
     },
     "output_type": "display_data"
    },
    {
     "name": "stdout",
     "output_type": "stream",
     "text": [
      "Normal walker: 0.0073974708134618376\n",
      "Metropolis walker: 0.014881319869752028\n"
     ]
    }
   ],
   "source": [
    "person = random.choice(states)\n",
    "uniform = State.from_uniform(states)\n",
    "\n",
    "orbit_1 = [MetropolisWalker(person)]\n",
    "orbit_2 = [Walker(person)]\n",
    "\n",
    "differences_1 = []\n",
    "differences_2 = []\n",
    "\n",
    "for i in range(30000):\n",
    "    orbit_1.append(T@orbit_1[-1])\n",
    "    orbit_2.append(T@orbit_2[-1])\n",
    "    orbit_dist_1 = State.from_orbit([o.state for o in orbit_1])\n",
    "    orbit_dist_2 = State.from_orbit([o.state for o in orbit_2])\n",
    "    differences_1.append(orbit_dist_1.dist(uniform))\n",
    "    differences_2.append(orbit_dist_2.dist(uniform))\n",
    "\n",
    "plt.plot(differences_1[1000:]) # metropolis walker\n",
    "plt.plot(differences_2[1000:]) # normal walker\n",
    "plt.title('Distance between orbit distrubutions')\n",
    "plt.ylabel('difference')\n",
    "plt.xlabel('time')\n",
    "plt.show()\n",
    "\n",
    "print('Normal walker: {}'.format(differences_1[-1]))\n",
    "print('Metropolis walker: {}'.format(differences_2[-1]))"
   ]
  },
  {
   "cell_type": "markdown",
   "metadata": {},
   "source": [
    "The blue line above shows the convergence of the metropolis walker towards the uniform distrubution while the orange is the normal random walker. You can clearly see that the orange line is bounded away from zero wheras the metropolis walker is convergent.  "
   ]
  },
  {
   "cell_type": "code",
   "execution_count": null,
   "metadata": {},
   "outputs": [],
   "source": []
  }
 ],
 "metadata": {
  "kernelspec": {
   "display_name": "Python 3",
   "language": "python",
   "name": "python3"
  },
  "language_info": {
   "codemirror_mode": {
    "name": "ipython",
    "version": 3
   },
   "file_extension": ".py",
   "mimetype": "text/x-python",
   "name": "python",
   "nbconvert_exporter": "python",
   "pygments_lexer": "ipython3",
   "version": "3.6.9"
  }
 },
 "nbformat": 4,
 "nbformat_minor": 4
}

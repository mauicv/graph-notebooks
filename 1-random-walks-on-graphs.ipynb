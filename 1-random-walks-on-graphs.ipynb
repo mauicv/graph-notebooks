{
 "cells": [
  {
   "cell_type": "markdown",
   "metadata": {},
   "source": [
    "\n",
    "\n",
    "## Intro\n",
    "\n",
    "___\n",
    "\n",
    "So graphs are made up of nodes and edges. We're going to build on top of a graph a random dynamical system that's going to move around on it known as a random walk. Doing so and recording each of the steps the random dynamical system takes we will manage to extract samples of the nodes in the graph.\n",
    "\n",
    "Typically if you allow the random walk to move between node by sellecting the next node uniformly from the set of connections you don't get a uniform distrubution of the network nodes. Instead you get something biased towards nodes with higher connection counts. There is a trick to modifying the nature of the random walk so that it gets a uniform distrubution accross all the network nodes this is known as the metropolis hastings algorithm which basically chooses subsequent nodes with higher probability if they're less connected. \n",
    "\n",
    "In the case of the small graphs we're going to look at this sampling method isn't really needed becuase you could just choose a random sample from the nodes. This type of technique is useful for sampling networks from which you can just draw a sample. In the case of twitter for instance you cannot select a user at random this means any sample you draw fromt he twitter network will be biased. In order to fix this you could run a metropolis hastings random walk on the network and after a long time you'd get the sample your want. (It would be a very long time. Twitters api rate limits basically make this impossible in reality) \n",
    "\n",
    "Suppose you have a collection of states ${s_1,...,s_n}$ these will be the nodes on the graph. Imagine a little chap we'll call a walker whos sat at one of these nodes/states. We're going to denote the probabaility of the walker at $s_i$ moving to $s_j$ as given by $p_{i,j}$. \n",
    "\n",
    "The states/nodes can really be anything, for instance they could encode letters and the probabailties $p_{a, b}$ would be the probabilty for finding the letters 'a' and 'b' next to each other in a sentance.\n"
   ]
  },
  {
   "cell_type": "markdown",
   "metadata": {},
   "source": [
    "## imports\n",
    "\n",
    "---\n",
    "\n",
    "before we start i'm going to import a tun of stuff. The pairwise function will be useful for turning orbits into pairwise transistions in points. We can then use this to count frequencies of transistions and then approximate probabailities. I'm going to use it to train approximations of transition matrixes for sentances where a sentance is an orbit on a network where the nodes are the letters. "
   ]
  },
  {
   "cell_type": "code",
   "execution_count": 7,
   "metadata": {},
   "outputs": [
    {
     "name": "stdout",
     "output_type": "stream",
     "text": [
      "h -> e\n",
      "e -> l\n",
      "l -> l\n",
      "l -> o\n"
     ]
    }
   ],
   "source": [
    "from itertools import tee\n",
    "import random\n",
    "import matplotlib.pyplot as plt; plt.rcdefaults()\n",
    "import numpy as np\n",
    "import matplotlib.pyplot as plt\n",
    "import math\n",
    "\n",
    "# For generating pairwise elements in a list. [1,2,3,4,5] becomes (1,2), (2,3), (3,4), (4,5)\n",
    "def pairwise(iterable):\n",
    "    a, b = tee(iterable)\n",
    "    next(b, None)\n",
    "    return zip(a, b)\n",
    "\n",
    "# example:\n",
    "orbit = 'hello'\n",
    "for s_1, s_2 in pairwise(orbit):\n",
    "    print(s_1, '->', s_2)"
   ]
  },
  {
   "cell_type": "markdown",
   "metadata": {},
   "source": [
    "I'm going to represent three objects of interest using classes. \n",
    "\n",
    "1. The first is a walker class. We're going to use this to generate random walks from the graph. It stores only a single state so for instance perhaps the letter 'l'. \n"
   ]
  },
  {
   "cell_type": "code",
   "execution_count": 8,
   "metadata": {},
   "outputs": [],
   "source": [
    "# For running random walks on the graph\n",
    "class Walker:\n",
    "    def __init__(self, state):\n",
    "        self.state = state\n"
   ]
  },
  {
   "cell_type": "markdown",
   "metadata": {},
   "source": [
    "\n",
    "2. The next is called State and represents distrubutions of walkers. So picture each walker as an individual in a population. Suppose for this popultaion 50% of the walker individuals are sat on the letter 'l' then we represent that by setting the dictionary value for 'l' to 0.5. This is a vector representation of how things, in this case our walkers, are distrubuted across the network. Most of the methods i've defined on this class are for visulizing the distrubution or creating specific froms of the distrubution. We'll see more later.\n"
   ]
  },
  {
   "cell_type": "code",
   "execution_count": 9,
   "metadata": {},
   "outputs": [],
   "source": [
    "# Abstaction of single state such as in the Walker class to a distrubution of states.\n",
    "class State:\n",
    "    def __init__(self, states):\n",
    "        self.states = {state: 0  for state in states}\n",
    "        \n",
    "    def __str__(self):\n",
    "        string = ''\n",
    "        count = 0\n",
    "        print('-------------------------------------------------------------------------------')\n",
    "        for i, k in self.states.items():\n",
    "            count = count + 1\n",
    "            string = string + '{}  :  {:.5f}  |  '.format(i, k)\n",
    "            if count > 5:\n",
    "                string = string + '\\n'\n",
    "                count = 0.\n",
    "        return string\n",
    "    \n",
    "    def draw(self):\n",
    "        objects = self.states.keys()\n",
    "        y_pos = np.arange(len(objects))\n",
    "        performance = [val for k, val in self.states.items()]\n",
    "        plt.bar(y_pos, performance, align='center', alpha=0.5)\n",
    "        plt.xticks(y_pos, objects)\n",
    "        plt.ylabel('density')\n",
    "        plt.title('Word occurence orbit frequency')\n",
    "        plt.show()\n",
    "    \n",
    "    @classmethod\n",
    "    def from_orbit(cls, orbit):\n",
    "        instance = cls(orbit)\n",
    "        for point in orbit:\n",
    "            instance.states[point] = instance.states.get(point, 0) + 1\n",
    "        for key, value in instance.states.items():\n",
    "            instance.states[key] = instance.states[key]/len(orbit) \n",
    "        return instance\n",
    "\n",
    "    @classmethod\n",
    "    def from_uniform(cls, states):\n",
    "        instance = cls(states)\n",
    "        for key, value in instance.states.items():\n",
    "            instance.states[key] = 1/len(instance.states) \n",
    "        return instance\n",
    "\n",
    "    \n",
    "    def __sub__(self, other):\n",
    "        difference = State(self.states.keys())\n",
    "        for key, _ in difference.states.items():\n",
    "            difference.states[key] = abs(self.states.get(key, 0) - other.states.get(key, 0))\n",
    "        return difference\n",
    "    \n",
    "    def dist(self, other):\n",
    "        diff = other - self\n",
    "        return math.sqrt(sum([v**2 for _, v in diff.states.items()]))\n"
   ]
  },
  {
   "cell_type": "markdown",
   "metadata": {},
   "source": [
    "3. The third is transistion Matrix class encodes the probabailiies of transistions in states.  So exactly the $p_{i,j}$ above. In this case we're looking at transistions between letters. This class acts on each of the Walker and State classes. In the case of the walker class the matrix will randomly update the node/state the walker is at to one of the ones it is connected to. Where the likly hood of it choosing a particular connected node is proportional to the transistion probability $p_{i,j}$. This class can also acts on the State class. If we're thinking of the State class as a representation of lots of individual Walker classes where a 0.5 value associated to a node/state means that 0.5 percent of the population of walkers are located at that node. The action of the transistion matrix class gives a new distrubution of walkers after each of them have taken a random step. Theres a little bit of neuance here in that while each of the walkers are moving randomly you imagine that the distrubution represents an infinit number of them. Hence even if they each move randomly in the limit you get the same next distrubution everytime. So this process is deterministic. The density picture of a population of walkers is really just a heuristic. What this vector represents best is the probabailities of finding a walker in a specific place. The action of a transistion matrix $M$ on this density vector at time $t$, $v(t)$ is just matrix multiplication. So: $$v_i(t+1) = M_{0,i}v_0(t) + M_{1,i}v_1(t) + ... + M_{n,i}v_n(t)$$ this just tells us that the new density of walkers at the state $i$, is given by the density at each of the states times there transistion probabilities from that state to $i$ i.e. the value $M_{j,i}v_j(t)$. In vector matrix notation this is: $$v(t)M$$ but don't worry about this for now. I'm hopfully going to come back to evolution of densities later on."
   ]
  },
  {
   "cell_type": "code",
   "execution_count": 10,
   "metadata": {},
   "outputs": [],
   "source": [
    "\n",
    "# Going to map between states with this class\n",
    "class TransitionMatrix:\n",
    "    def __init__(self, states, data=None):\n",
    "        self.p = {state: {} for state in states}\n",
    "        if data is None:\n",
    "            data = states\n",
    "        self._count(data)\n",
    "        self._normalize()\n",
    "\n",
    "    def _count(self, states):\n",
    "        for letter_1, letter_2 in pairwise(states):\n",
    "            self.p[letter_1][letter_2] = self.p[letter_1].get(letter_2, 0) + 1\n",
    "        \n",
    "    def _normalize(self):\n",
    "        for key, val in self.p.items():\n",
    "            row_total = sum([count for _, count in val.items()])\n",
    "            for target, count in val.items():\n",
    "                self.p[key][target] = self.p[key][target]/row_total\n",
    "\n",
    "        \n",
    "    def __matmul__(self, other):\n",
    "        \"\"\"If applying the transistion matrix class to a Walker class then select the next state at random. \n",
    "        If applying to a State class we generate a new distrbution. \"\"\"\n",
    "\n",
    "        if isinstance(other, State):\n",
    "            new_state = State([s for s, _ in other.states.items()])\n",
    "            for s_1, p in other.states.items():\n",
    "                sum_p_s2_s1 = 0\n",
    "                for s_2, P in self.p.items():\n",
    "                    sum_p_s2_s1 = sum_p_s2_s1 + other.states[s_2]*P.get(s_1, 0)\n",
    "                new_state.states[s_1] = sum_p_s2_s1 \n",
    "            return new_state\n",
    "\n",
    "        if isinstance(other, Walker):\n",
    "            ps = self.p[other.state]\n",
    "            choices = [*ps.keys()]\n",
    "            weights = [*ps.values()]\n",
    "            choice = random.choices(choices, weights=weights).pop()\n",
    "            return Walker(choice)\n",
    "    \n"
   ]
  },
  {
   "cell_type": "markdown",
   "metadata": {},
   "source": [
    "The main feature of the above class is the `__matmul__` method. This means if we have an instance `T` of a TransistionMatrix class and an instance `w` of a Walker class we can write:\n",
    "\n",
    "```py\n",
    "T@w\n",
    "```\n",
    "\n",
    "Then in the `__matmul__(self, other)`, we have `self` as the TransistionMatrix instance and `other` as the Walker. I've set this up to evolve both States and Walkers so the method first checks which the other object is. In our case it's a Walker. `self.p` is a disctionary that encodes the transition probabailities. `self.p[other.state]` is the set of connected nodes and probabailities from `other.state` or the node on which the walker is sitting. \n",
    "\n",
    "so we get the probability vector: `self.p[other.state]`, we unpack the states and the probabilities and tehn use pythons builtin random package to choose one at random in propotion to the weight vector. We then return a new Walker in that state. \n",
    "\n",
    "__Note__ _you don't need to use `@` theres nothing special about this operator, it would probabaily be more readable to create a method called multiply instead._\n"
   ]
  },
  {
   "cell_type": "markdown",
   "metadata": {},
   "source": [
    "## Creating A Transistion Matrix\n",
    "\n",
    "___\n",
    "\n",
    "So i'm going to get the transistion matrix associated to the letter pairs in the above introduction. The class essentially counts through each adjacent pair of letters and records the frequencies they occur. It then normalizes these frequencys so that given a state the sum of probabailties for transitions to each other state from that state is 1."
   ]
  },
  {
   "cell_type": "code",
   "execution_count": 11,
   "metadata": {},
   "outputs": [],
   "source": [
    "import re\n",
    "\n",
    "intro = \"\"\"So graphs are made up of nodes and edges. We're going to build on top of a graph a random dynamical system that's going to move around on it known as a random walk. Doing so and recording each of the steps the random dynamical system takes we will manage to extract samples of the nodes in the graph. Typically if you allow the random walk to move between node by sellecting the next node uniformly from the set of connections you don't get a uniform distrubution of the network nodes. Instead you get something biased towards nodes with higher connection counts. There is a trick to modifying the nature of the random walk so that it gets a uniform distrubution accross all the network nodes this is known as the metropolis hastings algorithm which basically chooses subsequent nodes with higher probability if they're less connected. In the case of the small graphs we're going to look at this sampling method isn't really needed becuase you could just choose a random sample from the nodes. This type of technique is useful for sampling networks from which you can just draw a sample. In the case of twitter for instance you cannot select a user at random this means any sample you draw fromt he twitter network will be biased. In order to fix this you could run a metropolis hastings random walk on the network and after a long time you'd get the sample your want. (It would be a very long time. Twitters api rate limits basically make this impossible in reality) Suppose you have a collection of states ${s_1,...,s_n}$ these will be the nodes on the graph. Imagine a little chap we'll call a walker whos sat at one of these nodes/states. We're going to denote the probabaility of the walker at $s_i$ moving to $s_j$ as given by $p_{i,j}$. The states/nodes can really be anything, for instance they could encode letters and the probabailties $p_{a, b}$ would be the probabilty for finding the letters 'a' and 'b' next to each other in a sentance.\"\"\"\n",
    "\n",
    "cleaned_intro = re.sub(r'\\W+', '', intro)\n",
    "\n",
    "T = TransitionMatrix(cleaned_intro)\n"
   ]
  },
  {
   "cell_type": "markdown",
   "metadata": {},
   "source": [
    "So now we can see which letters can go to which other letters and how likely they are to do so. We just look at `T.p['u']`."
   ]
  },
  {
   "cell_type": "code",
   "execution_count": 12,
   "metadata": {},
   "outputs": [
    {
     "data": {
      "text/plain": [
       "{'p': 0.05128205128205128,\n",
       " 'i': 0.02564102564102564,\n",
       " 'n': 0.15384615384615385,\n",
       " 'a': 0.05128205128205128,\n",
       " 'd': 0.07692307692307693,\n",
       " 'b': 0.07692307692307693,\n",
       " 't': 0.05128205128205128,\n",
       " 'g': 0.02564102564102564,\n",
       " 'r': 0.05128205128205128,\n",
       " 'e': 0.05128205128205128,\n",
       " 'c': 0.10256410256410256,\n",
       " 'l': 0.15384615384615385,\n",
       " 's': 0.10256410256410256,\n",
       " 'h': 0.02564102564102564}"
      ]
     },
     "execution_count": 12,
     "metadata": {},
     "output_type": "execute_result"
    }
   ],
   "source": [
    "T.p['u']"
   ]
  },
  {
   "cell_type": "markdown",
   "metadata": {},
   "source": [
    "We can verify the sum of these values is 1. Becuase this is a descrete probabaility distrubution we require that these values sums to one. This essentailly encodes the fact that something has to happen with certain probability! The set up here is all done in the `_normalize` and `_count` methods on the TransistionMatrix class"
   ]
  },
  {
   "cell_type": "code",
   "execution_count": 25,
   "metadata": {},
   "outputs": [
    {
     "data": {
      "text/plain": [
       "1.0"
      ]
     },
     "execution_count": 25,
     "metadata": {},
     "output_type": "execute_result"
    }
   ],
   "source": [
    "sum([v for _,v in T.p['u'].items()])"
   ]
  },
  {
   "cell_type": "markdown",
   "metadata": {},
   "source": [
    "## Sampling orbits\n",
    "\n",
    "___\n",
    "\n",
    "So first lets draw a orbit from the state space by iterativly applying a transition matrix to a walker. We're just going it iterativly apply `T@` to `w`."
   ]
  },
  {
   "cell_type": "code",
   "execution_count": 26,
   "metadata": {},
   "outputs": [
    {
     "name": "stdout",
     "output_type": "stream",
     "text": [
      "['t', 'i', 'n', 'j', 'T', 'h', 'I', 'n', 'e', 'a', 'm']\n"
     ]
    }
   ],
   "source": [
    "m = State(cleaned_intro)\n",
    "T = TransitionMatrix(cleaned_intro)\n",
    "w = Walker('t')\n",
    "w.state\n",
    "orbit = [w]\n",
    "\n",
    "for i in range(10):\n",
    "    orbit.append(T@orbit[-1])\n",
    "\n",
    "print([o.state for o in orbit])"
   ]
  },
  {
   "cell_type": "markdown",
   "metadata": {},
   "source": [
    "We can compute the probabaility of a given orbit by multiplying the probabailites of each of the trasnistions. So given an orbit $o=[s_1, s_2, ..., s_n]$ it's liklyhood of occuring is:\n",
    "$$p(o) = \\prod_{i=0}^{n}p(s_i|s_{i-1})$$\n",
    "where $p(s_i| s_{i-1}) = p_{s_{i-1},s_i}$ is the probability of $s_{i-1}$ going to $s_i$."
   ]
  },
  {
   "cell_type": "code",
   "execution_count": 27,
   "metadata": {},
   "outputs": [
    {
     "name": "stdout",
     "output_type": "stream",
     "text": [
      "t  ->  i  with prob: 0.0821917808219178\n",
      "i  ->  n  with prob: 0.24731182795698925\n",
      "n  ->  j  with prob: 0.008849557522123894\n",
      "j  ->  T  with prob: 0.25\n",
      "T  ->  h  with prob: 0.6\n",
      "h  ->  I  with prob: 0.014285714285714285\n",
      "I  ->  n  with prob: 0.6666666666666666\n",
      "n  ->  e  with prob: 0.11504424778761062\n",
      "e  ->  a  with prob: 0.07602339181286549\n",
      "a  ->  m  with prob: 0.08064516129032258\n",
      "--------------------------------\n",
      "prob of orbit:  1.812538581993702e-10\n"
     ]
    }
   ],
   "source": [
    "p_o = 1\n",
    "for s_1, s_2 in pairwise(orbit):\n",
    "    print(s_1.state, ' -> ' ,s_2.state, ' with prob:',T.p[s_1.state][s_2.state])\n",
    "    p_o = p_o*T.p[s_1.state][s_2.state]\n",
    "\n",
    "print('--------------------------------')\n",
    "print('prob of orbit: ', p_o)"
   ]
  },
  {
   "cell_type": "markdown",
   "metadata": {},
   "source": [
    "The outcome is very small which is to be expected given that the number of possible orbits grows large fast."
   ]
  },
  {
   "cell_type": "markdown",
   "metadata": {},
   "source": [
    "## Distrubutions\n",
    "\n",
    "---\n",
    "\n",
    "So the State class represents distrubutions on the set of letters that make up the nodes of the network. \n",
    "\n",
    "Suppose we want to draw a representative sample of this network of letters. In this case we're drawing an analogy between twitter and the letters in our network. So a representative sample of the network just means a representative sample of the nodes, in our case letters, (Twitters: users).\n",
    "\n",
    "This can be represented by a density that's uniform across all the letters. I've defined a class method that builds this for you (The assumption of metropolis hastings is that this is unreachable, i.e. we cannot sample from this distrubution):"
   ]
  },
  {
   "cell_type": "code",
   "execution_count": 28,
   "metadata": {},
   "outputs": [
    {
     "name": "stdout",
     "output_type": "stream",
     "text": [
      "-------------------------------------------------------------------------------\n",
      "S  :  0.03125  |  o  :  0.03125  |  g  :  0.03125  |  r  :  0.03125  |  a  :  0.03125  |  p  :  0.03125  |  \n",
      "h  :  0.03125  |  s  :  0.03125  |  e  :  0.03125  |  m  :  0.03125  |  d  :  0.03125  |  u  :  0.03125  |  \n",
      "f  :  0.03125  |  n  :  0.03125  |  W  :  0.03125  |  i  :  0.03125  |  t  :  0.03125  |  b  :  0.03125  |  \n",
      "l  :  0.03125  |  y  :  0.03125  |  c  :  0.03125  |  v  :  0.03125  |  k  :  0.03125  |  w  :  0.03125  |  \n",
      "D  :  0.03125  |  x  :  0.03125  |  T  :  0.03125  |  I  :  0.03125  |  q  :  0.03125  |  j  :  0.03125  |  \n",
      "_  :  0.03125  |  1  :  0.03125  |  \n"
     ]
    },
    {
     "data": {
      "image/png": "[encoded data removed]",
      "text/plain": [
       "<Figure size 640x480 with 1 Axes>"
      ]
     },
     "metadata": {},
     "output_type": "display_data"
    }
   ],
   "source": [
    "m = State(cleaned_intro)\n",
    "uniform = State.from_uniform(m.states.keys())\n",
    "print(uniform)\n",
    "uniform.draw()"
   ]
  },
  {
   "cell_type": "markdown",
   "metadata": {},
   "source": [
    "This is uniform as all letters are represented uniformly in the density. Lets now see what the distrubution of letters looks like when we take a sample by running a Walker on the network for a long time and storing each of the nodes that it arrives at along it's path."
   ]
  },
  {
   "cell_type": "code",
   "execution_count": 29,
   "metadata": {},
   "outputs": [
    {
     "name": "stdout",
     "output_type": "stream",
     "text": [
      "-------------------------------------------------------------------------------\n",
      "t  :  0.09418  |  r  :  0.04919  |  s  :  0.06979  |  n  :  0.07618  |  e  :  0.10818  |  l  :  0.04439  |  \n",
      "k  :  0.01000  |  d  :  0.03559  |  o  :  0.09478  |  y  :  0.02140  |  h  :  0.04599  |  _  :  0.00600  |  \n",
      "i  :  0.06059  |  a  :  0.07898  |  g  :  0.02120  |  T  :  0.00280  |  c  :  0.02619  |  u  :  0.02659  |  \n",
      "q  :  0.00140  |  f  :  0.02400  |  m  :  0.02719  |  b  :  0.01880  |  p  :  0.01780  |  w  :  0.02160  |  \n",
      "1  :  0.00140  |  I  :  0.00380  |  v  :  0.00420  |  W  :  0.00040  |  j  :  0.00340  |  x  :  0.00260  |  \n",
      "S  :  0.00060  |  D  :  0.00080  |  \n"
     ]
    },
    {
     "data": {
      "image/png": "[encoded data removed]",
      "text/plain": [
       "<Figure size 640x480 with 1 Axes>"
      ]
     },
     "metadata": {},
     "output_type": "display_data"
    }
   ],
   "source": [
    "m = State(cleaned_intro)\n",
    "T = TransitionMatrix(cleaned_intro)\n",
    "w = Walker('t')\n",
    "w.state\n",
    "orbit = [w]\n",
    "\n",
    "for i in range(5000):\n",
    "    orbit.append(T@orbit[-1])\n",
    "\n",
    "orbit_dist = State.from_orbit([o.state for o in orbit])\n",
    "print(orbit_dist)\n",
    "orbit_dist.draw()"
   ]
  },
  {
   "cell_type": "markdown",
   "metadata": {},
   "source": [
    "So this cleary hasn't converged to a representative sample of the network as it's hevily biased towards certain nodes."
   ]
  },
  {
   "cell_type": "markdown",
   "metadata": {},
   "source": [
    "## similarity of distrubutions:\n",
    "\n",
    "___\n",
    "\n",
    "We want a measure of similartity between distrubutions. To get this we just subract the two vectors from each other, sum the square of the differences and take the square root of the sum. \n",
    "\n",
    "$$dist(p_1, p_2) = \\sqrt{\\sum_{i=0}^{N}(p_1[i] - p_2[i])^2}$$\n",
    "\n",
    "I've added a dist method to the State class that computes this quantity. So for two equal distrubutions we get: "
   ]
  },
  {
   "cell_type": "code",
   "execution_count": 31,
   "metadata": {},
   "outputs": [
    {
     "data": {
      "text/plain": [
       "0.0"
      ]
     },
     "execution_count": 31,
     "metadata": {},
     "output_type": "execute_result"
    }
   ],
   "source": [
    "uniform.dist(uniform)"
   ]
  },
  {
   "cell_type": "markdown",
   "metadata": {},
   "source": [
    "and for two unequal distrubutions we have a value greater than zero:"
   ]
  },
  {
   "cell_type": "code",
   "execution_count": 32,
   "metadata": {},
   "outputs": [
    {
     "data": {
      "text/plain": [
       "0.1778014964408637"
      ]
     },
     "execution_count": 32,
     "metadata": {},
     "output_type": "execute_result"
    }
   ],
   "source": [
    "orbit_dist.dist(uniform)"
   ]
  },
  {
   "cell_type": "markdown",
   "metadata": {},
   "source": [
    "this gives us a method for examining convergence.\n",
    "    - For instance is it the case that two different orbits are converging to the same distrubution. \n",
    "    - And how does the orbit distrubution converge or not converge w.r.t. the uniform distrubution  \n",
    "    \n",
    "We can test this. The following graphs show how the orbit distrubutions of two random walks converge to each other but neither converge to the uniform distrubution:\n",
    "\n",
    "**Note**: _This is not a fast way of doing this._"
   ]
  },
  {
   "cell_type": "code",
   "execution_count": 33,
   "metadata": {},
   "outputs": [
    {
     "data": {
      "image/png": "[encoded data removed]",
      "text/plain": [
       "<Figure size 640x480 with 1 Axes>"
      ]
     },
     "metadata": {},
     "output_type": "display_data"
    }
   ],
   "source": [
    "T = TransitionMatrix(cleaned_intro)\n",
    "orbit_1 = [Walker('t')]\n",
    "orbit_2 = [Walker('o')]\n",
    "differences_1 = []\n",
    "differences_2 = []\n",
    "differences_3 = []\n",
    "\n",
    "for i in range(5000):\n",
    "    orbit_1.append(T@orbit_1[-1])\n",
    "    orbit_2.append(T@orbit_2[-1])\n",
    "    orbit_dist_1 = State.from_orbit([o.state for o in orbit_1])\n",
    "    orbit_dist_2 = State.from_orbit([o.state for o in orbit_2])\n",
    "    differences_1.append(orbit_dist_1.dist(orbit_dist_2))\n",
    "    differences_2.append(orbit_dist_1.dist(uniform))\n",
    "    differences_3.append(orbit_dist_2.dist(uniform))\n",
    "    \n",
    "plt.plot(differences_1)\n",
    "plt.plot(differences_2)\n",
    "plt.plot(differences_3)\n",
    "plt.title('Distance between orbit distrubutions')\n",
    "plt.ylabel('difference')\n",
    "plt.xlabel('time')\n",
    "plt.show()\n"
   ]
  },
  {
   "cell_type": "markdown",
   "metadata": {},
   "source": [
    "So above we're runing two orbits from different intial points. 't' and 'o'. These orbits converge towards each other as demonstraghted by the line that slopes down towards 0. Both of these orbits however don't converge to the uniform distrubution which is represented by the two lines that plato around 0.2. In the next note book i'm going to show how we can change the random walk to ensure that the orbit does converge to the uniform density."
   ]
  },
  {
   "cell_type": "code",
   "execution_count": null,
   "metadata": {},
   "outputs": [],
   "source": []
  }
 ],
 "metadata": {
  "kernelspec": {
   "display_name": "Python 3",
   "language": "python",
   "name": "python3"
  },
  "language_info": {
   "codemirror_mode": {
    "name": "ipython",
    "version": 3
   },
   "file_extension": ".py",
   "mimetype": "text/x-python",
   "name": "python",
   "nbconvert_exporter": "python",
   "pygments_lexer": "ipython3",
   "version": "3.6.9"
  }
 },
 "nbformat": 4,
 "nbformat_minor": 4
}
